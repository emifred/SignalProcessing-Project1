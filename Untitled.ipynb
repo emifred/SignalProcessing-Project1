{
 "cells": [
  {
   "cell_type": "code",
   "execution_count": 127,
   "id": "e629d65e-3cb7-4c23-9d4e-5864ac1a3aa1",
   "metadata": {},
   "outputs": [],
   "source": [
    "import numpy as np\n",
    "import math\n",
    "import matplotlib.pyplot as plt"
   ]
  },
  {
   "cell_type": "markdown",
   "metadata": {},
   "source": [
    "Part 1:\n",
    "A mobile station is moving along a straight line, away from a base-station at position d = 0 as illustrated in Figure 1. The base-station antenna is at 30 m above the ground and the mobile antenna is at 1.5 m. As seen by the picture the mobile is receiving two signals one direct ray and one reflected. Assume that the reflection is perfect which means no power loss at the reflection, but a phase shift of π (reflection coefficient ρ = −1).\n",
    "\n",
    "Express the power of the recieved signal as a function of distance d."
   ]
  },
  {
   "cell_type": "code",
   "execution_count": 128,
   "metadata": {},
   "outputs": [],
   "source": [
    "#1. a)\n",
    "\n",
    "#variables:\n",
    "ht = 30             #height transmitter antenna\n",
    "hr = 1.5            #height receiver antenna\n",
    "\n",
    "fc = 500*10**6      #carrier frequency\n",
    "Pt = 100            #Transmit power in watt, in dB it's 20dB\n",
    "c = 3*10**8         #speed of light\n",
    "d1 = 0\n",
    "d2= 200\n",
    "wavelength = c/fc \n",
    "tao1 = d1/c #time delay direct path, [m/(m/s) = s], time delay\n",
    "tao2 = d2/c #time delay reflected path, [m/(m/s) = s], time delay\n",
    "\n",
    "def cart2pol(x, y):\n",
    "    rho = np.sqrt(x**2 + y**2)\n",
    "    phi = np.arctan2(y, x)\n",
    "    return(rho, phi)\n",
    "\n",
    "def pol2cart(rho, phi):\n",
    "    x = rho * np.cos(phi)\n",
    "    y = rho * np.sin(phi)\n",
    "    return(x, y)"
   ]
  },
  {
   "cell_type": "markdown",
   "metadata": {},
   "source": [
    "time delay distance over propagation speed = d/c"
   ]
  },
  {
   "cell_type": "code",
   "execution_count": 155,
   "metadata": {},
   "outputs": [],
   "source": [
    "# 1. a)\n",
    "\n",
    "#Functions given from assignment:\n",
    "def phase(d): #not needed from the assignment\n",
    "    return d \n",
    "def s(t):\n",
    "    return math.sqrt(Pt)*math.cos(2*math.pi*fc*t)\n",
    "def r(t, tao1, tao2): \n",
    "    return s(t-tao1) - s(t-tao2)\n",
    "def A(d):       # Amplitude as function of distance d\n",
    "    return math.sqrt*d\n",
    "def Pr(d):      # Received power    \n",
    "    return ((wavelength**2)/(4*math.pi)**2)*Pt#A(d)**2\n",
    "def PrdB(d):    # Received power in dB\n",
    "    return 10*math.log10(Pr(d))\n"
   ]
  },
  {
   "cell_type": "code",
   "execution_count": 153,
   "metadata": {},
   "outputs": [
    {
     "name": "stdout",
     "output_type": "stream",
     "text": [
      "0.22797266319525997 Watt\n",
      "-6.421172272769052 dBW\n"
     ]
    }
   ],
   "source": [
    "#Calculations and loops etc.\n",
    "print(Pr(1), 'Watt')\n",
    "print(PrdB(1), 'dBW')\n",
    "\n",
    "#for t in range(1,20):\n",
    "#    test = r(t,tao1,tao2)  #test, prints out value in time 1-20\n",
    "#    print(test) #test\n"
   ]
  },
  {
   "cell_type": "code",
   "execution_count": null,
   "metadata": {},
   "outputs": [],
   "source": []
  }
 ],
 "metadata": {
  "kernelspec": {
   "display_name": "Python 3 (ipykernel)",
   "language": "python",
   "name": "python3"
  },
  "language_info": {
   "codemirror_mode": {
    "name": "ipython",
    "version": 3
   },
   "file_extension": ".py",
   "mimetype": "text/x-python",
   "name": "python",
   "nbconvert_exporter": "python",
   "pygments_lexer": "ipython3",
   "version": "3.11.5"
  }
 },
 "nbformat": 4,
 "nbformat_minor": 5
}
